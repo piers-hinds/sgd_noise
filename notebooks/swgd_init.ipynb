{
  "nbformat": 4,
  "nbformat_minor": 0,
  "metadata": {
    "colab": {
      "provenance": [],
      "authorship_tag": "ABX9TyNNFTtmIWrQqpG9U7xrokul",
      "include_colab_link": true
    },
    "kernelspec": {
      "name": "python3",
      "display_name": "Python 3"
    },
    "language_info": {
      "name": "python"
    }
  },
  "cells": [
    {
      "cell_type": "markdown",
      "metadata": {
        "id": "view-in-github",
        "colab_type": "text"
      },
      "source": [
        "<a href=\"https://colab.research.google.com/github/piers-hinds/sgd_noise/blob/main/notebooks/swgd_init.ipynb\" target=\"_parent\"><img src=\"https://colab.research.google.com/assets/colab-badge.svg\" alt=\"Open In Colab\"/></a>"
      ]
    },
    {
      "cell_type": "code",
      "source": [
        "!pip install git+'https://github.com/piers-hinds/sgd_noise' &> /dev/null"
      ],
      "metadata": {
        "id": "NThWCbIi_dIT"
      },
      "execution_count": 1,
      "outputs": []
    },
    {
      "cell_type": "code",
      "source": [
        "!nvidia-smi -L"
      ],
      "metadata": {
        "colab": {
          "base_uri": "https://localhost:8080/"
        },
        "id": "nHRSqhMOAh-3",
        "outputId": "06fa0d28-1d0b-4115-da6c-9a48c41609d1"
      },
      "execution_count": 2,
      "outputs": [
        {
          "output_type": "stream",
          "name": "stdout",
          "text": [
            "NVIDIA-SMI has failed because it couldn't communicate with the NVIDIA driver. Make sure that the latest NVIDIA driver is installed and running.\n",
            "\n"
          ]
        }
      ]
    },
    {
      "cell_type": "code",
      "execution_count": 3,
      "metadata": {
        "id": "jQl04LrP_XdO"
      },
      "outputs": [],
      "source": [
        "from sgd_noise import *\n",
        "import torch\n",
        "import numpy as np\n",
        "import torch.nn as nn\n",
        "import matplotlib.pyplot as plt\n",
        "import pandas as pd\n",
        "from torch.utils.data import Dataset, DataLoader\n",
        "import torch.nn.functional as F\n",
        "from torchvision import datasets, transforms\n",
        "from sklearn.metrics import accuracy_score\n",
        "\n",
        "device = 'cuda' if torch.cuda.is_available() else 'cpu'"
      ]
    },
    {
      "cell_type": "code",
      "source": [
        "n = 100\n",
        "sigma = 0.10\n",
        "true_theta = 0.9\n",
        "\n",
        "torch.manual_seed(3)\n",
        "noise = torch.randn(n) * sigma\n",
        "xs = torch.linspace(0, 1, n)\n",
        "ys = true_theta * xs + noise"
      ],
      "metadata": {
        "id": "0-YrEs8q6ByA"
      },
      "execution_count": 146,
      "outputs": []
    },
    {
      "cell_type": "code",
      "source": [
        "plt.scatter(xs, ys)"
      ],
      "metadata": {
        "colab": {
          "base_uri": "https://localhost:8080/",
          "height": 282
        },
        "id": "tXLFJu0f-ro4",
        "outputId": "f4de58b4-32cb-448f-c488-6d80caa061e5"
      },
      "execution_count": 147,
      "outputs": [
        {
          "output_type": "execute_result",
          "data": {
            "text/plain": [
              "<matplotlib.collections.PathCollection at 0x7f64fb2451d0>"
            ]
          },
          "metadata": {},
          "execution_count": 147
        },
        {
          "output_type": "display_data",
          "data": {
            "text/plain": [
              "<Figure size 432x288 with 1 Axes>"
            ],
            "image/png": "[encoded data removed]"
          },
          "metadata": {
            "needs_background": "light"
          }
        }
      ]
    },
    {
      "cell_type": "code",
      "source": [
        "def model(theta, x):\n",
        "    # 1d linear model\n",
        "    return theta * x\n",
        "\n",
        "def sq_err(x, y):\n",
        "    return (x - y)**2"
      ],
      "metadata": {
        "id": "BBeld2VV-r9n"
      },
      "execution_count": 148,
      "outputs": []
    },
    {
      "cell_type": "markdown",
      "source": [
        "Veirfy empirical variance mathces with analytical variance:\n",
        "\n",
        "\n",
        "1.   Fix a $\\theta$\n",
        "2.   Sample gradients and compute sample variance\n",
        "3.   Evaluate analytical expression using autograd\n",
        "\n"
      ],
      "metadata": {
        "id": "NeVIIKd9IOFp"
      }
    },
    {
      "cell_type": "code",
      "source": [
        "theta_fixed = torch.tensor(0., requires_grad=True)\n",
        "\n",
        "def sample_gradient(num_samples, b):\n",
        "    grads = []\n",
        "    np.random.seed(1)\n",
        "    for i in range(num_samples):\n",
        "        idx = np.random.choice(np.arange(n), b)\n",
        "        loss = sq_err(model(theta_fixed, xs[idx]), ys[idx]).mean(-1)\n",
        "        grad = torch.autograd.grad(loss, theta_fixed)[0]\n",
        "        grads.append(grad)\n",
        "    return torch.stack(grads)"
      ],
      "metadata": {
        "id": "9Ji_1HgTHNpA"
      },
      "execution_count": 149,
      "outputs": []
    },
    {
      "cell_type": "code",
      "source": [
        "sample_grads = sample_gradient(1000, 7)"
      ],
      "metadata": {
        "id": "mKQVzus3iMMi"
      },
      "execution_count": 150,
      "outputs": []
    },
    {
      "cell_type": "code",
      "source": [
        "sample_grads.mean()"
      ],
      "metadata": {
        "colab": {
          "base_uri": "https://localhost:8080/"
        },
        "id": "YhhFxnpSMAbW",
        "outputId": "c8c1a0b2-8d47-4abf-9d62-23a9478d305a"
      },
      "execution_count": 151,
      "outputs": [
        {
          "output_type": "execute_result",
          "data": {
            "text/plain": [
              "tensor(-0.6037)"
            ]
          },
          "metadata": {},
          "execution_count": 151
        }
      ]
    },
    {
      "cell_type": "code",
      "source": [
        "torch.autograd.grad(sq_err(model(theta_fixed, xs), ys).mean(-1), theta_fixed)"
      ],
      "metadata": {
        "colab": {
          "base_uri": "https://localhost:8080/"
        },
        "id": "Nehq_vZ7mA7p",
        "outputId": "4a3635e9-7e9d-41b2-c036-4d78194b051d"
      },
      "execution_count": 152,
      "outputs": [
        {
          "output_type": "execute_result",
          "data": {
            "text/plain": [
              "(tensor(-0.6069),)"
            ]
          },
          "metadata": {},
          "execution_count": 152
        }
      ]
    },
    {
      "cell_type": "code",
      "source": [
        "sample_grads.var()"
      ],
      "metadata": {
        "colab": {
          "base_uri": "https://localhost:8080/"
        },
        "id": "Jj8AcO-PmOWb",
        "outputId": "569025c1-dbff-4212-be7f-c8152e3eebcf"
      },
      "execution_count": 153,
      "outputs": [
        {
          "output_type": "execute_result",
          "data": {
            "text/plain": [
              "tensor(0.0424)"
            ]
          },
          "metadata": {},
          "execution_count": 153
        }
      ]
    },
    {
      "cell_type": "code",
      "source": [
        "vars = np.stack([sample_gradient(10000, b).var().numpy() for b in range(1, 21)])"
      ],
      "metadata": {
        "id": "JkIReC8SmZnM"
      },
      "execution_count": 193,
      "outputs": []
    },
    {
      "cell_type": "code",
      "source": [
        "plt.plot(np.arange(1, 21), vars)"
      ],
      "metadata": {
        "colab": {
          "base_uri": "https://localhost:8080/",
          "height": 282
        },
        "id": "FPcWtRfLnLiv",
        "outputId": "30a2b1b1-911e-4e3d-bd87-940de79b51f0"
      },
      "execution_count": 199,
      "outputs": [
        {
          "output_type": "execute_result",
          "data": {
            "text/plain": [
              "[<matplotlib.lines.Line2D at 0x7f64fb0b2b50>]"
            ]
          },
          "metadata": {},
          "execution_count": 199
        },
        {
          "output_type": "display_data",
          "data": {
            "text/plain": [
              "<Figure size 432x288 with 1 Axes>"
            ],
            "image/png": "[encoded data removed]"
          },
          "metadata": {
            "needs_background": "light"
          }
        }
      ]
    },
    {
      "cell_type": "code",
      "source": [
        "def lm_grad_variance(n, b, xs, ys):\n",
        "    alphas = torch.ones_like(xs) / b\n",
        "    diag_coef = b * (1 - b / n) / n\n",
        "    off_diag_coef = b * ((b - 1) / (n - 1) - b / n) / n\n",
        "    diag_sum = 4 * torch.sum((alphas ** 2) * (xs ** 2) * (ys ** 2))\n",
        "    off_diag_sum = 4 * (torch.outer(alphas, alphas) * torch.outer(xs, xs) * torch.outer(ys, ys)).sum(-1).sum(-1) - diag_sum\n",
        "    return (diag_coef * diag_sum + off_diag_coef * off_diag_sum)"
      ],
      "metadata": {
        "id": "9zbnm6VCnM9u"
      },
      "execution_count": 197,
      "outputs": []
    },
    {
      "cell_type": "code",
      "source": [
        "true_vars = np.stack([lm_grad_variance(n, b, xs, ys) for b in range(1, 21)])\n",
        "true_vars"
      ],
      "metadata": {
        "colab": {
          "base_uri": "https://localhost:8080/"
        },
        "id": "nK_G98IKsYZQ",
        "outputId": "f473b4b1-0ec1-4f27-e98e-f04141f8c08a"
      },
      "execution_count": 198,
      "outputs": [
        {
          "output_type": "execute_result",
          "data": {
            "text/plain": [
              "array([0.30640495, 0.15165499, 0.10007165, 0.07428   , 0.058805  ,\n",
              "       0.04848833, 0.04111928, 0.03559249, 0.03129388, 0.027855  ,\n",
              "       0.02504136, 0.02269666, 0.02071269, 0.01901214, 0.01753833,\n",
              "       0.01624875, 0.01511088, 0.01409944, 0.01319447, 0.01238   ],\n",
              "      dtype=float32)"
            ]
          },
          "metadata": {},
          "execution_count": 198
        }
      ]
    },
    {
      "cell_type": "code",
      "source": [
        "vars"
      ],
      "metadata": {
        "colab": {
          "base_uri": "https://localhost:8080/"
        },
        "id": "aa7mlQ_orfUV",
        "outputId": "868cadc8-3e49-4998-f267-0635bcd7d361"
      },
      "execution_count": 195,
      "outputs": [
        {
          "output_type": "execute_result",
          "data": {
            "text/plain": [
              "array([0.3042194 , 0.15279536, 0.1017401 , 0.07636832, 0.06131709,\n",
              "       0.05125782, 0.0435285 , 0.03770403, 0.03328008, 0.03028652,\n",
              "       0.02777149, 0.0252997 , 0.02322738, 0.02168408, 0.0204157 ,\n",
              "       0.01909791, 0.01824373, 0.01688034, 0.01624987, 0.01536004],\n",
              "      dtype=float32)"
            ]
          },
          "metadata": {},
          "execution_count": 195
        }
      ]
    },
    {
      "cell_type": "code",
      "source": [],
      "metadata": {
        "id": "fycovYautxyW"
      },
      "execution_count": null,
      "outputs": []
    }
  ]
}