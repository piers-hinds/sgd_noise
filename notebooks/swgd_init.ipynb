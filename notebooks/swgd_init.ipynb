{
  "nbformat": 4,
  "nbformat_minor": 0,
  "metadata": {
    "colab": {
      "provenance": [],
      "authorship_tag": "ABX9TyOSONj+x7d40cOBCo1GpIYl",
      "include_colab_link": true
    },
    "kernelspec": {
      "name": "python3",
      "display_name": "Python 3"
    },
    "language_info": {
      "name": "python"
    }
  },
  "cells": [
    {
      "cell_type": "markdown",
      "metadata": {
        "id": "view-in-github",
        "colab_type": "text"
      },
      "source": [
        "<a href=\"https://colab.research.google.com/github/piers-hinds/sgd_noise/blob/main/notebooks/swgd_init.ipynb\" target=\"_parent\"><img src=\"https://colab.research.google.com/assets/colab-badge.svg\" alt=\"Open In Colab\"/></a>"
      ]
    },
    {
      "cell_type": "code",
      "source": [
        "!pip install git+'https://github.com/piers-hinds/sgd_noise' &> /dev/null"
      ],
      "metadata": {
        "id": "NThWCbIi_dIT"
      },
      "execution_count": 1,
      "outputs": []
    },
    {
      "cell_type": "code",
      "source": [
        "!nvidia-smi -L"
      ],
      "metadata": {
        "colab": {
          "base_uri": "https://localhost:8080/"
        },
        "id": "nHRSqhMOAh-3",
        "outputId": "06fa0d28-1d0b-4115-da6c-9a48c41609d1"
      },
      "execution_count": 2,
      "outputs": [
        {
          "output_type": "stream",
          "name": "stdout",
          "text": [
            "NVIDIA-SMI has failed because it couldn't communicate with the NVIDIA driver. Make sure that the latest NVIDIA driver is installed and running.\n",
            "\n"
          ]
        }
      ]
    },
    {
      "cell_type": "code",
      "execution_count": 3,
      "metadata": {
        "id": "jQl04LrP_XdO"
      },
      "outputs": [],
      "source": [
        "from sgd_noise import *\n",
        "import torch\n",
        "import numpy as np\n",
        "import torch.nn as nn\n",
        "import matplotlib.pyplot as plt\n",
        "import pandas as pd\n",
        "from torch.utils.data import Dataset, DataLoader\n",
        "import torch.nn.functional as F\n",
        "from torchvision import datasets, transforms\n",
        "from sklearn.metrics import accuracy_score\n",
        "\n",
        "device = 'cuda' if torch.cuda.is_available() else 'cpu'"
      ]
    },
    {
      "cell_type": "code",
      "source": [
        "n = 10\n",
        "sigma = 0.10\n",
        "true_theta = 0.9\n",
        "\n",
        "torch.manual_seed(3)\n",
        "noise = torch.randn(n) * sigma\n",
        "xs = torch.linspace(0, 1, n)\n",
        "ys = true_theta * xs + noise"
      ],
      "metadata": {
        "id": "0-YrEs8q6ByA"
      },
      "execution_count": 4,
      "outputs": []
    },
    {
      "cell_type": "code",
      "source": [
        "plt.scatter(xs, ys)"
      ],
      "metadata": {
        "colab": {
          "base_uri": "https://localhost:8080/",
          "height": 282
        },
        "id": "tXLFJu0f-ro4",
        "outputId": "522d0acf-6267-483b-c300-ce6de02db568"
      },
      "execution_count": 5,
      "outputs": [
        {
          "output_type": "execute_result",
          "data": {
            "text/plain": [
              "<matplotlib.collections.PathCollection at 0x7f64fe7d1dd0>"
            ]
          },
          "metadata": {},
          "execution_count": 5
        },
        {
          "output_type": "display_data",
          "data": {
            "text/plain": [
              "<Figure size 432x288 with 1 Axes>"
            ],
            "image/png": "[encoded data removed]"
          },
          "metadata": {
            "needs_background": "light"
          }
        }
      ]
    },
    {
      "cell_type": "code",
      "source": [
        "def model(theta, x):\n",
        "    # 1d linear model\n",
        "    return theta * x\n",
        "\n",
        "def sq_err(x, y):\n",
        "    return (x - y)**2\n",
        "\n",
        "def wsq_err(x, y, w=None):\n",
        "    # weighted square error\n",
        "    if w is None:\n",
        "        w = torch.ones_like(y)\n",
        "    w = w / w.sum()\n",
        "    return torch.sum(w * sq_err(x, y))"
      ],
      "metadata": {
        "id": "BBeld2VV-r9n"
      },
      "execution_count": 6,
      "outputs": []
    },
    {
      "cell_type": "code",
      "source": [],
      "metadata": {
        "id": "9Ji_1HgTHNpA"
      },
      "execution_count": null,
      "outputs": []
    }
  ]
}