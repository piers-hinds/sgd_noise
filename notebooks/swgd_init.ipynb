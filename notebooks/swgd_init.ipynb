{
  "nbformat": 4,
  "nbformat_minor": 0,
  "metadata": {
    "colab": {
      "provenance": [],
      "collapsed_sections": [],
      "authorship_tag": "ABX9TyOph1TfRnINfavKUZLTR5eS",
      "include_colab_link": true
    },
    "kernelspec": {
      "name": "python3",
      "display_name": "Python 3"
    },
    "language_info": {
      "name": "python"
    }
  },
  "cells": [
    {
      "cell_type": "markdown",
      "metadata": {
        "id": "view-in-github",
        "colab_type": "text"
      },
      "source": [
        "<a href=\"https://colab.research.google.com/github/piers-hinds/sgd_noise/blob/main/notebooks/swgd_init.ipynb\" target=\"_parent\"><img src=\"https://colab.research.google.com/assets/colab-badge.svg\" alt=\"Open In Colab\"/></a>"
      ]
    },
    {
      "cell_type": "code",
      "source": [
        "!pip install git+'https://github.com/piers-hinds/sgd_noise' &> /dev/null"
      ],
      "metadata": {
        "id": "NThWCbIi_dIT"
      },
      "execution_count": 1,
      "outputs": []
    },
    {
      "cell_type": "code",
      "source": [
        "!nvidia-smi -L"
      ],
      "metadata": {
        "colab": {
          "base_uri": "https://localhost:8080/"
        },
        "id": "nHRSqhMOAh-3",
        "outputId": "8c7467b8-fd3e-4c7c-a11b-d7d8bd23efa8"
      },
      "execution_count": 2,
      "outputs": [
        {
          "output_type": "stream",
          "name": "stdout",
          "text": [
            "NVIDIA-SMI has failed because it couldn't communicate with the NVIDIA driver. Make sure that the latest NVIDIA driver is installed and running.\n",
            "\n"
          ]
        }
      ]
    },
    {
      "cell_type": "code",
      "execution_count": 3,
      "metadata": {
        "id": "jQl04LrP_XdO"
      },
      "outputs": [],
      "source": [
        "from sgd_noise import *\n",
        "import torch\n",
        "import numpy as np\n",
        "import torch.nn as nn\n",
        "import matplotlib.pyplot as plt\n",
        "import pandas as pd\n",
        "from torch.utils.data import Dataset, DataLoader\n",
        "import torch.nn.functional as F\n",
        "from torchvision import datasets, transforms\n",
        "from sklearn.metrics import accuracy_score\n",
        "\n",
        "device = 'cuda' if torch.cuda.is_available() else 'cpu'"
      ]
    },
    {
      "cell_type": "code",
      "source": [
        "n = 100\n",
        "sigma = 0.10\n",
        "true_theta = 0.9\n",
        "\n",
        "torch.manual_seed(3)\n",
        "noise = torch.randn(n) * sigma\n",
        "xs = torch.linspace(0, 1, n)\n",
        "ys = true_theta * xs + noise"
      ],
      "metadata": {
        "id": "0-YrEs8q6ByA"
      },
      "execution_count": 83,
      "outputs": []
    },
    {
      "cell_type": "code",
      "source": [
        "plt.scatter(xs, ys)"
      ],
      "metadata": {
        "colab": {
          "base_uri": "https://localhost:8080/",
          "height": 282
        },
        "id": "tXLFJu0f-ro4",
        "outputId": "45eda017-3b37-44f6-853d-8a2aefe53ecf"
      },
      "execution_count": 84,
      "outputs": [
        {
          "output_type": "execute_result",
          "data": {
            "text/plain": [
              "<matplotlib.collections.PathCollection at 0x7f8218ff1450>"
            ]
          },
          "metadata": {},
          "execution_count": 84
        },
        {
          "output_type": "display_data",
          "data": {
            "text/plain": [
              "<Figure size 432x288 with 1 Axes>"
            ],
            "image/png": "[encoded data removed]"
          },
          "metadata": {
            "needs_background": "light"
          }
        }
      ]
    },
    {
      "cell_type": "code",
      "source": [
        "def model(theta, x):\n",
        "    # 1d linear model\n",
        "    return theta * x\n",
        "\n",
        "def sq_err(x, y):\n",
        "    return (x - y)**2\n",
        "\n",
        "def criterion(theta):\n",
        "    return sq_err(model(theta, xs), ys)"
      ],
      "metadata": {
        "id": "BBeld2VV-r9n"
      },
      "execution_count": 85,
      "outputs": []
    },
    {
      "cell_type": "markdown",
      "source": [
        "Veirfy empirical variance mathces with analytical variance:\n",
        "\n",
        "\n",
        "1.   Fix a $\\theta$\n",
        "2.   Sample gradients and compute sample variance\n",
        "3.   Evaluate analytical expression using autograd\n",
        "\n"
      ],
      "metadata": {
        "id": "NeVIIKd9IOFp"
      }
    },
    {
      "cell_type": "code",
      "source": [
        "theta_fixed = torch.tensor(0., requires_grad=True)\n",
        "\n",
        "def sample_gradient(num_samples, b):\n",
        "    # At theta_fixed\n",
        "    grads = []\n",
        "    np.random.seed(1)\n",
        "    for i in range(num_samples):\n",
        "        idx = np.random.choice(np.arange(n), b)\n",
        "        loss = sq_err(model(theta_fixed, xs[idx]), ys[idx]).mean(-1)\n",
        "        grad = torch.autograd.grad(loss, theta_fixed)[0]\n",
        "        grads.append(grad)\n",
        "    return torch.stack(grads)"
      ],
      "metadata": {
        "id": "9Ji_1HgTHNpA"
      },
      "execution_count": 86,
      "outputs": []
    },
    {
      "cell_type": "code",
      "source": [
        "sample_grads = sample_gradient(1000, 7)"
      ],
      "metadata": {
        "id": "mKQVzus3iMMi"
      },
      "execution_count": 9,
      "outputs": []
    },
    {
      "cell_type": "code",
      "source": [
        "sample_grads.mean()"
      ],
      "metadata": {
        "colab": {
          "base_uri": "https://localhost:8080/"
        },
        "id": "YhhFxnpSMAbW",
        "outputId": "4fa45a11-c1cc-4c74-aaa4-8a773edfa43e"
      },
      "execution_count": 10,
      "outputs": [
        {
          "output_type": "execute_result",
          "data": {
            "text/plain": [
              "tensor(-0.6037)"
            ]
          },
          "metadata": {},
          "execution_count": 10
        }
      ]
    },
    {
      "cell_type": "code",
      "source": [
        "torch.autograd.grad(sq_err(model(theta_fixed, xs), ys).mean(-1), theta_fixed)"
      ],
      "metadata": {
        "colab": {
          "base_uri": "https://localhost:8080/"
        },
        "id": "Nehq_vZ7mA7p",
        "outputId": "311212c8-e7da-4043-a5ee-dd4df4cf1def"
      },
      "execution_count": 11,
      "outputs": [
        {
          "output_type": "execute_result",
          "data": {
            "text/plain": [
              "(tensor(-0.6069),)"
            ]
          },
          "metadata": {},
          "execution_count": 11
        }
      ]
    },
    {
      "cell_type": "code",
      "source": [
        "vars = np.stack([sample_gradient(1000, b).var().numpy() for b in range(1, 21)])"
      ],
      "metadata": {
        "id": "JkIReC8SmZnM"
      },
      "execution_count": 14,
      "outputs": []
    },
    {
      "cell_type": "code",
      "source": [
        "plt.plot(np.arange(1, 21), vars)"
      ],
      "metadata": {
        "colab": {
          "base_uri": "https://localhost:8080/",
          "height": 282
        },
        "id": "FPcWtRfLnLiv",
        "outputId": "a51b82a0-fdff-4865-d3b6-f723573f1f47"
      },
      "execution_count": 15,
      "outputs": [
        {
          "output_type": "execute_result",
          "data": {
            "text/plain": [
              "[<matplotlib.lines.Line2D at 0x7f821aaa1d10>]"
            ]
          },
          "metadata": {},
          "execution_count": 15
        },
        {
          "output_type": "display_data",
          "data": {
            "text/plain": [
              "<Figure size 432x288 with 1 Axes>"
            ],
            "image/png": "[encoded data removed]"
          },
          "metadata": {
            "needs_background": "light"
          }
        }
      ]
    },
    {
      "cell_type": "code",
      "source": [
        "def lm_grad_variance(n, b, xs, ys):\n",
        "    # Only at theta = 0 for linear model above\n",
        "    alphas = torch.ones_like(xs) / b\n",
        "    diag_coef = b * (1 - b / n) / n\n",
        "    off_diag_coef = b * ((b - 1) / (n - 1) - b / n) / n\n",
        "    diag_sum = 4 * torch.sum((alphas ** 2) * (xs ** 2) * (ys ** 2))\n",
        "    off_diag_sum = 4 * (torch.outer(alphas, alphas) * torch.outer(xs, xs) * torch.outer(ys, ys)).sum(-1).sum(-1) - diag_sum\n",
        "    return (diag_coef * diag_sum + off_diag_coef * off_diag_sum)"
      ],
      "metadata": {
        "id": "9zbnm6VCnM9u"
      },
      "execution_count": 16,
      "outputs": []
    },
    {
      "cell_type": "code",
      "source": [
        "true_vars = np.stack([lm_grad_variance(n, b, xs, ys) for b in range(1, 21)])\n",
        "true_vars"
      ],
      "metadata": {
        "colab": {
          "base_uri": "https://localhost:8080/"
        },
        "id": "nK_G98IKsYZQ",
        "outputId": "4b05bb70-ef0b-45ad-ca21-726ef950cce5"
      },
      "execution_count": 17,
      "outputs": [
        {
          "output_type": "execute_result",
          "data": {
            "text/plain": [
              "array([0.30640495, 0.15165499, 0.10007165, 0.07428   , 0.058805  ,\n",
              "       0.04848833, 0.04111928, 0.03559249, 0.03129388, 0.027855  ,\n",
              "       0.02504136, 0.02269666, 0.02071269, 0.01901214, 0.01753833,\n",
              "       0.01624875, 0.01511088, 0.01409944, 0.01319447, 0.01238   ],\n",
              "      dtype=float32)"
            ]
          },
          "metadata": {},
          "execution_count": 17
        }
      ]
    },
    {
      "cell_type": "code",
      "source": [
        "def lm_autograd_variance(n, b, xs, ys, alphas=None):\n",
        "    if alphas is None:\n",
        "        alphas = torch.ones_like(xs) / b\n",
        "    elif isinstance(alphas, np.ndarray):\n",
        "        alphas = torch.tensor(alphas)\n",
        "    diag_coef = b * (1 - b / n) / n\n",
        "    off_diag_coef = b * ((b - 1) / (n - 1) - b / n) / n\n",
        "\n",
        "    def f(theta):\n",
        "        return sq_err(model(theta, xs), ys)\n",
        "    jac = torch.autograd.functional.jacobian(f, theta_fixed)\n",
        "    diag_sum =  torch.sum((alphas ** 2) * jac ** 2)\n",
        "    off_diag_sum = (torch.outer(alphas, alphas) * torch.outer(jac, jac)).sum(-1).sum(-1) - diag_sum\n",
        "    return (diag_coef * diag_sum + off_diag_coef * off_diag_sum)"
      ],
      "metadata": {
        "id": "fycovYautxyW"
      },
      "execution_count": 36,
      "outputs": []
    },
    {
      "cell_type": "code",
      "source": [
        "lm_autograd_variance(n, 5, xs, ys)"
      ],
      "metadata": {
        "colab": {
          "base_uri": "https://localhost:8080/"
        },
        "id": "Z2prr0TN8OuB",
        "outputId": "ede08f70-bbd3-4229-e1c8-738c4567fca7"
      },
      "execution_count": 37,
      "outputs": [
        {
          "output_type": "execute_result",
          "data": {
            "text/plain": [
              "tensor(0.0588)"
            ]
          },
          "metadata": {},
          "execution_count": 37
        }
      ]
    },
    {
      "cell_type": "code",
      "source": [
        "def f(alphas):\n",
        "    # Fixed for b = 2\n",
        "    return -lm_autograd_variance(n, 2, xs, ys, alphas).item()"
      ],
      "metadata": {
        "id": "mldk6uIE9qjT"
      },
      "execution_count": 54,
      "outputs": []
    },
    {
      "cell_type": "code",
      "source": [
        "f(None)"
      ],
      "metadata": {
        "colab": {
          "base_uri": "https://localhost:8080/"
        },
        "id": "wb4x436Q_K21",
        "outputId": "cc9ee184-b8e6-4261-a970-3f4137a5e66a"
      },
      "execution_count": 39,
      "outputs": [
        {
          "output_type": "execute_result",
          "data": {
            "text/plain": [
              "0.15165500342845917"
            ]
          },
          "metadata": {},
          "execution_count": 39
        }
      ]
    },
    {
      "cell_type": "code",
      "source": [
        "test_alphas = criterion(theta_fixed)\n",
        "test_alphas *= (n / 2) / test_alphas.sum()\n",
        "test_alphas.sum() # should be == n / b "
      ],
      "metadata": {
        "colab": {
          "base_uri": "https://localhost:8080/"
        },
        "id": "amnz4NqKAE6G",
        "outputId": "f8420d0b-ab91-456a-81c0-e1279f5703a8"
      },
      "execution_count": 52,
      "outputs": [
        {
          "output_type": "execute_result",
          "data": {
            "text/plain": [
              "tensor(50.0000, grad_fn=<SumBackward0>)"
            ]
          },
          "metadata": {},
          "execution_count": 52
        }
      ]
    },
    {
      "cell_type": "code",
      "source": [
        "f(test_alphas)"
      ],
      "metadata": {
        "colab": {
          "base_uri": "https://localhost:8080/"
        },
        "id": "_X7ZRmeIwml8",
        "outputId": "ae438037-7889-480f-87cc-3180c3748c46"
      },
      "execution_count": 53,
      "outputs": [
        {
          "output_type": "execute_result",
          "data": {
            "text/plain": [
              "1.2989635467529297"
            ]
          },
          "metadata": {},
          "execution_count": 53
        }
      ]
    },
    {
      "cell_type": "code",
      "source": [
        "from scipy.optimize import minimize, Bounds"
      ],
      "metadata": {
        "id": "bv2HG-Ug_MI1"
      },
      "execution_count": null,
      "outputs": []
    },
    {
      "cell_type": "code",
      "source": [
        "def c1(alphas):\n",
        "    return alphas.sum() - n / 2\n",
        "bounds = Bounds(lb=0.01, ub=n/2, keep_feasible=False)\n",
        "\n",
        "minimize(f, np.ones_like(xs.numpy()) / 2, constraints=({'type':'eq', 'fun':c1}), bounds=bounds)"
      ],
      "metadata": {
        "id": "HpHoNxLp_pV2"
      },
      "execution_count": null,
      "outputs": []
    },
    {
      "cell_type": "markdown",
      "source": [
        "# Variance as a function of $\\theta$"
      ],
      "metadata": {
        "id": "YezXxgsAznuB"
      }
    },
    {
      "cell_type": "code",
      "source": [
        "def model(theta, x):\n",
        "    # 1d linear model\n",
        "    return theta * x\n",
        "\n",
        "def sq_err(x, y):\n",
        "    return (x - y)**2\n",
        "\n",
        "def criterion(theta, xs=xs, ys=ys):\n",
        "    return sq_err(model(theta, xs), ys)\n",
        "\n",
        "def autograd_variance(theta, n, b, xs, ys, criterion, alphas=None):\n",
        "    \"\"\"Computes the variance of gradients of a given loss function\"\"\"\n",
        "    if alphas is None:\n",
        "        alphas = torch.ones_like(xs) / b\n",
        "    elif isinstance(alphas, np.ndarray):\n",
        "        alphas = torch.tensor(alphas)\n",
        "\n",
        "    if isinstance(theta, torch.Tensor):\n",
        "        if not theta.requires_grad:\n",
        "            theta.requires_grad = True\n",
        "    else:\n",
        "        theta = torch.tensor(theta, requires_grad=True, dtype=torch.float32)\n",
        "\n",
        "    diag_coef = b * (1 - b / n) / n\n",
        "    off_diag_coef = b * ((b - 1) / (n - 1) - b / n) / n\n",
        "\n",
        "    jac = torch.autograd.functional.jacobian(criterion, theta)\n",
        "    diag_sum =  torch.sum((alphas ** 2) * jac ** 2)\n",
        "    off_diag_sum = (torch.outer(alphas, alphas) * torch.outer(jac, jac)).sum(-1).sum(-1) - diag_sum\n",
        "    return (diag_coef * diag_sum + off_diag_coef * off_diag_sum)\n",
        "\n",
        "def sample_gradient(num_samples, theta, b, criterion):\n",
        "    if isinstance(theta, torch.Tensor):\n",
        "        if not theta.requires_grad:\n",
        "            theta.requires_grad = True\n",
        "    else:\n",
        "        theta = torch.tensor(theta, requires_grad=True, dtype=torch.float32)\n",
        "    \n",
        "    grads = []\n",
        "    np.random.seed(1)\n",
        "    for i in range(num_samples):\n",
        "        idx = np.random.choice(np.arange(n), b)\n",
        "        noisy_criterion = lambda x: criterion(x, xs[idx], ys[idx])\n",
        "        grad = torch.autograd.functional.jacobian(noisy_criterion, theta_fixed).mean(-1)\n",
        "        grads.append(grad)\n",
        "    return torch.stack(grads)"
      ],
      "metadata": {
        "id": "2xxTfW2o_wfG"
      },
      "execution_count": 106,
      "outputs": []
    },
    {
      "cell_type": "code",
      "source": [
        "autograd_variance(0, n, 1, xs, ys, criterion)"
      ],
      "metadata": {
        "colab": {
          "base_uri": "https://localhost:8080/"
        },
        "id": "5E5ymDpW2AA_",
        "outputId": "9fe7688a-7c5c-49f2-dd67-c251d4b022d7"
      },
      "execution_count": 107,
      "outputs": [
        {
          "output_type": "execute_result",
          "data": {
            "text/plain": [
              "tensor(0.3064)"
            ]
          },
          "metadata": {},
          "execution_count": 107
        }
      ]
    },
    {
      "cell_type": "code",
      "source": [
        "sample_gradient(1000, 0, 2, criterion).var()"
      ],
      "metadata": {
        "colab": {
          "base_uri": "https://localhost:8080/"
        },
        "id": "DNyeqUPK2Fo-",
        "outputId": "a63e9230-175e-4129-ed20-0c660ad3ff7e"
      },
      "execution_count": 110,
      "outputs": [
        {
          "output_type": "execute_result",
          "data": {
            "text/plain": [
              "tensor(0.1519)"
            ]
          },
          "metadata": {},
          "execution_count": 110
        }
      ]
    },
    {
      "cell_type": "code",
      "source": [],
      "metadata": {
        "id": "qyeVGX9F4Mcv"
      },
      "execution_count": null,
      "outputs": []
    }
  ]
}